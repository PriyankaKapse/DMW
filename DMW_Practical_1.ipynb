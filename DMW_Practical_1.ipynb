{
 "cells": [
  {
   "cell_type": "markdown",
   "metadata": {
    "id": "L93kpOKS74uw"
   },
   "source": [
    "# Importing Library"
   ]
  },
  {
   "cell_type": "code",
   "execution_count": null,
   "metadata": {
    "id": "VqktjaZe7Bve"
   },
   "outputs": [],
   "source": [
    "import pandas as pd\n",
    "import numpy as np\n",
    "import matplotlib.pyplot as plt"
   ]
  },
  {
   "cell_type": "markdown",
   "metadata": {
    "id": "wZBspYLy8DQ4"
   },
   "source": [
    "# 1.Load Dataset"
   ]
  },
  {
   "cell_type": "code",
   "execution_count": null,
   "metadata": {
    "id": "UQT5jEwv8GbD"
   },
   "outputs": [],
   "source": [
    "df=pd.read_csv('train.csv')"
   ]
  },
  {
   "cell_type": "markdown",
   "metadata": {
    "id": "xq6xBfTe8S-f"
   },
   "source": [
    "# display dataset contain"
   ]
  },
  {
   "cell_type": "code",
   "execution_count": null,
   "metadata": {
    "colab": {
     "base_uri": "https://localhost:8080/",
     "height": 206
    },
    "id": "SaUiKyVb8Xqv",
    "outputId": "fb6e952b-dc97-4a7c-bab3-fc294b93631d"
   },
   "outputs": [],
   "source": [
    "df.head()"
   ]
  },
  {
   "cell_type": "markdown",
   "metadata": {
    "id": "waQlTRMZ9I2b"
   },
   "source": [
    "# 2.find the number of rows and columns"
   ]
  },
  {
   "cell_type": "code",
   "execution_count": null,
   "metadata": {
    "colab": {
     "base_uri": "https://localhost:8080/"
    },
    "id": "ueLFNUw58iVf",
    "outputId": "e65f3160-13ab-44e0-fdbd-8cfdf98931e5"
   },
   "outputs": [],
   "source": [
    "df.shape"
   ]
  },
  {
   "cell_type": "markdown",
   "metadata": {
    "id": "monnm4WZ9YuK"
   },
   "source": [
    "# 3. find datatype of each and every column"
   ]
  },
  {
   "cell_type": "code",
   "execution_count": null,
   "metadata": {
    "colab": {
     "base_uri": "https://localhost:8080/"
    },
    "id": "-MvZb6Wz9h8G",
    "outputId": "388e6e83-b1dc-45c3-dffc-3d917038346f"
   },
   "outputs": [],
   "source": [
    "df.dtypes"
   ]
  },
  {
   "cell_type": "markdown",
   "metadata": {
    "id": "rjdkrxCF9-72"
   },
   "source": [
    "# 4.find Mean,median and mode of each and every column "
   ]
  },
  {
   "cell_type": "code",
   "execution_count": null,
   "metadata": {
    "colab": {
     "base_uri": "https://localhost:8080/",
     "height": 300
    },
    "id": "BSy3slCC9-Zd",
    "outputId": "75715af5-413b-43f9-aeb8-2c68f2101823"
   },
   "outputs": [],
   "source": [
    "df.describe()"
   ]
  },
  {
   "cell_type": "markdown",
   "metadata": {
    "id": "wuDPOuWK-juP"
   },
   "source": [
    "# 5.find the missing value of each and every column"
   ]
  },
  {
   "cell_type": "code",
   "execution_count": null,
   "metadata": {
    "colab": {
     "base_uri": "https://localhost:8080/"
    },
    "id": "nm38_-sc-s63",
    "outputId": "0ecce162-8c86-4dde-f35a-f4d2ac1fb516"
   },
   "outputs": [],
   "source": [
    "df.isnull().sum()"
   ]
  },
  {
   "cell_type": "markdown",
   "metadata": {
    "id": "twb8xvnA--uS"
   },
   "source": [
    "# 6.replace missing value with appropriate value"
   ]
  },
  {
   "cell_type": "code",
   "execution_count": null,
   "metadata": {
    "id": "zCt5wfI7_Jls"
   },
   "outputs": [],
   "source": [
    "def impute_median(series):\n",
    "    return series.fillna(series.median())"
   ]
  },
  {
   "cell_type": "code",
   "execution_count": null,
   "metadata": {
    "id": "nar20HPr_UAo"
   },
   "outputs": [],
   "source": [
    "df.Age=df['Age'].transform(impute_median)"
   ]
  },
  {
   "cell_type": "code",
   "execution_count": null,
   "metadata": {
    "colab": {
     "base_uri": "https://localhost:8080/"
    },
    "id": "rUBp6mLi_iB0",
    "outputId": "7601c38c-72f2-45ad-fac5-eeb787c3421c"
   },
   "outputs": [],
   "source": [
    "df.isnull().sum()"
   ]
  },
  {
   "cell_type": "code",
   "execution_count": null,
   "metadata": {
    "colab": {
     "base_uri": "https://localhost:8080/"
    },
    "id": "6u0EIyjt_qd2",
    "outputId": "030119f0-9262-44ba-8344-30f08c658612"
   },
   "outputs": [],
   "source": [
    "print(df['Cabin'].mode())"
   ]
  },
  {
   "cell_type": "code",
   "execution_count": null,
   "metadata": {
    "colab": {
     "base_uri": "https://localhost:8080/"
    },
    "id": "sGVucz5RALtg",
    "outputId": "eaf4e786-a356-4a25-e598-38dc5b511b82"
   },
   "outputs": [],
   "source": [
    "print(df['Embarked'].mode())"
   ]
  },
  {
   "cell_type": "code",
   "execution_count": null,
   "metadata": {
    "id": "a0b1qtNiAZ2m"
   },
   "outputs": [],
   "source": [
    "df['Cabin'].fillna(str(df['Cabin'].mode().values[0]),inplace=True)"
   ]
  },
  {
   "cell_type": "code",
   "execution_count": null,
   "metadata": {
    "id": "anuL7tVMAi91"
   },
   "outputs": [],
   "source": [
    "df['Embarked'].fillna(str(df['Embarked'].mode().values[0]),inplace=True)"
   ]
  },
  {
   "cell_type": "code",
   "execution_count": null,
   "metadata": {
    "colab": {
     "base_uri": "https://localhost:8080/"
    },
    "id": "y02NmMG7AuVA",
    "outputId": "24f7ed15-b551-4622-a5ed-6b9e9d0274d9"
   },
   "outputs": [],
   "source": [
    "df.isnull().sum()"
   ]
  },
  {
   "cell_type": "markdown",
   "metadata": {
    "id": "Ss2YLPcjA-LM"
   },
   "source": [
    "# 7.find the list of column with int or float"
   ]
  },
  {
   "cell_type": "code",
   "execution_count": null,
   "metadata": {
    "colab": {
     "base_uri": "https://localhost:8080/"
    },
    "id": "JLWCLSiVA9vC",
    "outputId": "f4c3cf41-aed4-4645-dd94-d171e4c54128"
   },
   "outputs": [],
   "source": [
    "df.columns"
   ]
  },
  {
   "cell_type": "code",
   "execution_count": null,
   "metadata": {
    "id": "oYi7EkzyBf1D"
   },
   "outputs": [],
   "source": [
    "data = df.select_dtypes(exclude='object').columns"
   ]
  },
  {
   "cell_type": "code",
   "execution_count": null,
   "metadata": {
    "colab": {
     "base_uri": "https://localhost:8080/"
    },
    "id": "X6Cno9B5BmKo",
    "outputId": "523a8172-e040-4474-f69f-e288abf3a0d2"
   },
   "outputs": [],
   "source": [
    "data"
   ]
  },
  {
   "cell_type": "markdown",
   "metadata": {
    "id": "LH6mApV-B4hF"
   },
   "source": [
    "# 8.Visualize int or float column by histogram chart"
   ]
  },
  {
   "cell_type": "code",
   "execution_count": null,
   "metadata": {
    "colab": {
     "base_uri": "https://localhost:8080/",
     "height": 283
    },
    "id": "vmp38_4FCCqq",
    "outputId": "5d930f85-70e8-4e47-8388-806014112e3a"
   },
   "outputs": [],
   "source": [
    "df['PassengerId'].hist()"
   ]
  },
  {
   "cell_type": "code",
   "execution_count": null,
   "metadata": {
    "colab": {
     "base_uri": "https://localhost:8080/",
     "height": 283
    },
    "id": "KMlKnzPDCar8",
    "outputId": "15175d8b-e33c-4e40-c2b1-4a75feee3bc5"
   },
   "outputs": [],
   "source": [
    "df['Survived'].hist()"
   ]
  },
  {
   "cell_type": "code",
   "execution_count": null,
   "metadata": {
    "colab": {
     "base_uri": "https://localhost:8080/",
     "height": 283
    },
    "id": "ZOSlxUhMCiJh",
    "outputId": "e8086c71-a998-48c7-ed89-837447883a55"
   },
   "outputs": [],
   "source": [
    "df['Pclass'].hist()"
   ]
  },
  {
   "cell_type": "code",
   "execution_count": null,
   "metadata": {
    "colab": {
     "base_uri": "https://localhost:8080/",
     "height": 283
    },
    "id": "Ec5uuvm2Chgw",
    "outputId": "a22b5d65-87bc-46d3-ffbf-0cd0b1611c58"
   },
   "outputs": [],
   "source": [
    "df['Age'].hist()"
   ]
  },
  {
   "cell_type": "code",
   "execution_count": null,
   "metadata": {
    "colab": {
     "base_uri": "https://localhost:8080/",
     "height": 283
    },
    "id": "EwdbN0BRCgOy",
    "outputId": "e7dc0138-b977-48cc-fffa-daae0f1a4b3f"
   },
   "outputs": [],
   "source": [
    "df['SibSp'].hist()"
   ]
  },
  {
   "cell_type": "code",
   "execution_count": null,
   "metadata": {
    "colab": {
     "base_uri": "https://localhost:8080/",
     "height": 284
    },
    "id": "VrKwHQT_Cd7G",
    "outputId": "6179bd78-a5a8-4c6f-a814-ac0e39c8488f"
   },
   "outputs": [],
   "source": [
    "df['Parch'].hist()"
   ]
  },
  {
   "cell_type": "code",
   "execution_count": null,
   "metadata": {
    "colab": {
     "base_uri": "https://localhost:8080/",
     "height": 283
    },
    "id": "KWGe77vECdHE",
    "outputId": "9bdc279e-1538-409a-b08e-8a00e89e5d6f"
   },
   "outputs": [],
   "source": [
    "df['Fare'].hist()"
   ]
  },
  {
   "cell_type": "markdown",
   "metadata": {
    "id": "GBVhVHtdDbWd"
   },
   "source": [
    "# 9.remove any two irrelavent column from dataset"
   ]
  },
  {
   "cell_type": "code",
   "execution_count": null,
   "metadata": {
    "id": "lo2w77itEPd9"
   },
   "outputs": [],
   "source": [
    "datas=df.drop(['Fare'] ,axis=1,inplace=True)"
   ]
  },
  {
   "cell_type": "code",
   "execution_count": null,
   "metadata": {
    "colab": {
     "base_uri": "https://localhost:8080/",
     "height": 424
    },
    "id": "Up6GouW5GwRw",
    "outputId": "202e7703-b31e-491b-f77b-73a22a1489c8"
   },
   "outputs": [],
   "source": [
    "df"
   ]
  },
  {
   "cell_type": "markdown",
   "metadata": {
    "id": "wifGe4NfHb6I"
   },
   "source": [
    "# 10.remove any one or two rows from dataset"
   ]
  },
  {
   "cell_type": "code",
   "execution_count": null,
   "metadata": {
    "id": "Kd2kYAmdHbeU"
   },
   "outputs": [],
   "source": [
    "data1=df.drop([df.index[0],df.index[1]])"
   ]
  },
  {
   "cell_type": "code",
   "execution_count": null,
   "metadata": {
    "colab": {
     "base_uri": "https://localhost:8080/",
     "height": 424
    },
    "id": "50YOKqioGxFo",
    "outputId": "349f11cb-7c61-408a-c27c-30785929e28e"
   },
   "outputs": [],
   "source": [
    "data1"
   ]
  },
  {
   "cell_type": "markdown",
   "metadata": {
    "id": "eVBIuOTJLR7M"
   },
   "source": [
    "11.unique value in cabin column"
   ]
  },
  {
   "cell_type": "code",
   "execution_count": null,
   "metadata": {
    "colab": {
     "base_uri": "https://localhost:8080/"
    },
    "id": "DBu-WmupLaXi",
    "outputId": "18c8eb18-d155-41b5-eb97-415046871da2"
   },
   "outputs": [],
   "source": [
    "df['Cabin'].unique()"
   ]
  },
  {
   "cell_type": "code",
   "execution_count": null,
   "metadata": {
    "colab": {
     "base_uri": "https://localhost:8080/"
    },
    "id": "aywKLGieMP8w",
    "outputId": "c23b6f8e-1e73-409b-dd43-67273d95a1d7"
   },
   "outputs": [],
   "source": [
    "df['Cabin'].value_counts()"
   ]
  }
 ],
 "metadata": {
  "colab": {
   "provenance": []
  },
  "kernelspec": {
   "display_name": "Python 3 (ipykernel)",
   "language": "python",
   "name": "python3"
  },
  "language_info": {
   "codemirror_mode": {
    "name": "ipython",
    "version": 3
   },
   "file_extension": ".py",
   "mimetype": "text/x-python",
   "name": "python",
   "nbconvert_exporter": "python",
   "pygments_lexer": "ipython3",
   "version": "3.9.7"
  }
 },
 "nbformat": 4,
 "nbformat_minor": 1
}
